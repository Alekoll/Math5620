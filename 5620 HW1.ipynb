{
 "cells": [
  {
   "cell_type": "code",
   "execution_count": 30,
   "metadata": {},
   "outputs": [],
   "source": [
    "import cmath, math\n",
    "import matplotlib\n",
    "import pandas as pd\n",
    "\n",
    "#x is the approximate\n",
    "def absError(x,y):\n",
    "    return abs(x - y)\n",
    "\n",
    "def Dplus(u,x,h):\n",
    "    return (u(x + h) - u(x))/h\n",
    "\n",
    "def Dminus(u,x,h):\n",
    "    return (u(x) - u(x-h))/h\n",
    "\n",
    "def Dzero(u,x,h):\n",
    "    return .5 * (Dplus(u,x,h) + Dminus(u,x,h))\n",
    "\n",
    "def Dthree(u,x,h):\n",
    "    return (1/(6 * h)) * (2 * u(x + h) + 3 * u(x) - 6 * u(x-h) + u(x - 2 * h))\n"
   ]
  },
  {
   "cell_type": "markdown",
   "metadata": {},
   "source": [
    "\n",
    "# Homework 1"
   ]
  },
  {
   "cell_type": "code",
   "execution_count": 31,
   "metadata": {},
   "outputs": [],
   "source": [
    "hlist = [.1,.05,.01,.001,.0001]\n",
    "DplusR = []\n",
    "DminusR = []\n",
    "DzeroR = []\n",
    "DthreeR = []\n",
    "a = 2\n",
    "exact = math.cos(a)\n",
    "\n",
    "for h in hlist:\n",
    "\n",
    "    DplusR.append(absError(Dplus(lambda x : math.sin(x), a, h),exact))\n",
    "    DminusR.append(absError(Dminus(lambda x : math.sin(x), a, h),exact))\n",
    "    DzeroR.append(absError(Dzero(lambda x : math.sin(x), a, h),exact))\n",
    "    DthreeR.append(absError(Dthree(lambda x : math.sin(x), a, h),exact))\n"
   ]
  },
  {
   "cell_type": "code",
   "execution_count": 42,
   "metadata": {},
   "outputs": [],
   "source": [
    "df = pd.DataFrame(data = [DplusR,DminusR,DzeroR,DthreeR])\n",
    "df = df.T\n",
    "df.columns = ['DplusR','DminusR','DzerR', 'DthreeR']\n",
    "df.index = hlist"
   ]
  },
  {
   "cell_type": "code",
   "execution_count": 43,
   "metadata": {},
   "outputs": [
    {
     "data": {
      "text/html": [
       "<div>\n",
       "<style scoped>\n",
       "    .dataframe tbody tr th:only-of-type {\n",
       "        vertical-align: middle;\n",
       "    }\n",
       "\n",
       "    .dataframe tbody tr th {\n",
       "        vertical-align: top;\n",
       "    }\n",
       "\n",
       "    .dataframe thead th {\n",
       "        text-align: right;\n",
       "    }\n",
       "</style>\n",
       "<table border=\"1\" class=\"dataframe\">\n",
       "  <thead>\n",
       "    <tr style=\"text-align: right;\">\n",
       "      <th></th>\n",
       "      <th>DplusR</th>\n",
       "      <th>DminusR</th>\n",
       "      <th>DzerR</th>\n",
       "      <th>DthreeR</th>\n",
       "    </tr>\n",
       "  </thead>\n",
       "  <tbody>\n",
       "    <tr>\n",
       "      <th>0.1000</th>\n",
       "      <td>0.044734</td>\n",
       "      <td>0.046120</td>\n",
       "      <td>6.932314e-04</td>\n",
       "      <td>7.703409e-05</td>\n",
       "    </tr>\n",
       "    <tr>\n",
       "      <th>0.0500</th>\n",
       "      <td>0.022554</td>\n",
       "      <td>0.022901</td>\n",
       "      <td>1.733728e-04</td>\n",
       "      <td>9.554574e-06</td>\n",
       "    </tr>\n",
       "    <tr>\n",
       "      <th>0.0100</th>\n",
       "      <td>0.004540</td>\n",
       "      <td>0.004553</td>\n",
       "      <td>6.935746e-06</td>\n",
       "      <td>7.591224e-08</td>\n",
       "    </tr>\n",
       "    <tr>\n",
       "      <th>0.0010</th>\n",
       "      <td>0.000455</td>\n",
       "      <td>0.000455</td>\n",
       "      <td>6.935782e-08</td>\n",
       "      <td>7.574413e-11</td>\n",
       "    </tr>\n",
       "    <tr>\n",
       "      <th>0.0001</th>\n",
       "      <td>0.000045</td>\n",
       "      <td>0.000045</td>\n",
       "      <td>6.928061e-10</td>\n",
       "      <td>1.083245e-12</td>\n",
       "    </tr>\n",
       "  </tbody>\n",
       "</table>\n",
       "</div>"
      ],
      "text/plain": [
       "          DplusR   DminusR         DzerR       DthreeR\n",
       "0.1000  0.044734  0.046120  6.932314e-04  7.703409e-05\n",
       "0.0500  0.022554  0.022901  1.733728e-04  9.554574e-06\n",
       "0.0100  0.004540  0.004553  6.935746e-06  7.591224e-08\n",
       "0.0010  0.000455  0.000455  6.935782e-08  7.574413e-11\n",
       "0.0001  0.000045  0.000045  6.928061e-10  1.083245e-12"
      ]
     },
     "execution_count": 43,
     "metadata": {},
     "output_type": "execute_result"
    }
   ],
   "source": [
    "df"
   ]
  },
  {
   "cell_type": "code",
   "execution_count": 45,
   "metadata": {},
   "outputs": [
    {
     "data": {
      "text/plain": [
       "<matplotlib.axes._subplots.AxesSubplot at 0x1166e8f50>"
      ]
     },
     "execution_count": 45,
     "metadata": {},
     "output_type": "execute_result"
    },
    {
     "data": {
      "image/png": "[encoded data removed]",
      "text/plain": [
       "<Figure size 432x288 with 1 Axes>"
      ]
     },
     "metadata": {
      "needs_background": "light"
     },
     "output_type": "display_data"
    }
   ],
   "source": [
    "df.plot(logx = True,logy = True)"
   ]
  },
  {
   "cell_type": "code",
   "execution_count": null,
   "metadata": {},
   "outputs": [],
   "source": []
  }
 ],
 "metadata": {
  "kernelspec": {
   "display_name": "Python 3",
   "language": "python",
   "name": "python3"
  },
  "language_info": {
   "codemirror_mode": {
    "name": "ipython",
    "version": 3
   },
   "file_extension": ".py",
   "mimetype": "text/x-python",
   "name": "python",
   "nbconvert_exporter": "python",
   "pygments_lexer": "ipython3",
   "version": "3.7.6"
  }
 },
 "nbformat": 4,
 "nbformat_minor": 4
}
